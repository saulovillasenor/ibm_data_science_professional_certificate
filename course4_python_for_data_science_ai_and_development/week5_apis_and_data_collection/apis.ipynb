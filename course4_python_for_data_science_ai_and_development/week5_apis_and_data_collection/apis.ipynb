{
 "cells": [
  {
   "cell_type": "markdown",
   "metadata": {},
   "source": [
    "# Application Programming Interface\n",
    "\n",
    "## Objectives\n",
    "\n",
    "*   Creating and Using APIs in Python\n"
   ]
  },
  {
   "cell_type": "markdown",
   "metadata": {},
   "source": [
    "### Introduction\n",
    "\n",
    "An API lets two pieces of software talk to each other. Just like a function,  you don’t have to know how the API works only its inputs and outputs.  An essential type of API is a REST API that allows you to access resources via the internet. In this lab, we will review the Pandas Library  in the context of an API, we will also review a basic REST API\n"
   ]
  },
  {
   "cell_type": "markdown",
   "metadata": {},
   "source": [
    "## Table of Contents\n",
    "\n",
    "1. Pandas is an API\n",
    "2. REST APIs Basics\n",
    "3. Quiz on Tuples"
   ]
  },
  {
   "cell_type": "markdown",
   "metadata": {},
   "source": [
    "<h2 id=\"PandasAPI\">Pandas is an API </h2>\n"
   ]
  },
  {
   "cell_type": "markdown",
   "metadata": {},
   "source": [
    "Pandas is actually set of software components , much of  which is not even written in Python.\n"
   ]
  },
  {
   "cell_type": "code",
   "execution_count": 1,
   "metadata": {
    "jupyter": {
     "outputs_hidden": false
    }
   },
   "outputs": [],
   "source": [
    "import pandas as pd\n",
    "import numpy as np\n",
    "import plotly.graph_objects as go\n",
    "from plotly.offline import plot\n",
    "import matplotlib.pyplot as plt\n",
    "import datetime\n",
    "from pycoingecko import CoinGeckoAPI\n",
    "from mplfinance.original_flavor import candlestick2_ohlc"
   ]
  },
  {
   "cell_type": "markdown",
   "metadata": {},
   "source": [
    "You create a dictionary, this is just data.\n"
   ]
  },
  {
   "cell_type": "code",
   "execution_count": 2,
   "metadata": {
    "jupyter": {
     "outputs_hidden": false
    }
   },
   "outputs": [],
   "source": [
    "dict_={'a':[11,21,31],'b':[12,22,32]}"
   ]
  },
  {
   "cell_type": "markdown",
   "metadata": {},
   "source": [
    "When you create a Pandas object with the Dataframe constructor in API lingo, this is an \"instance\". The data in the dictionary is passed along to the pandas API. You then use the dataframe to communicate with the API.\n"
   ]
  },
  {
   "cell_type": "code",
   "execution_count": 3,
   "metadata": {
    "jupyter": {
     "outputs_hidden": false
    }
   },
   "outputs": [
    {
     "data": {
      "text/plain": [
       "pandas.core.frame.DataFrame"
      ]
     },
     "execution_count": 3,
     "metadata": {},
     "output_type": "execute_result"
    }
   ],
   "source": [
    "df=pd.DataFrame(dict_)\n",
    "type(df)"
   ]
  },
  {
   "cell_type": "markdown",
   "metadata": {},
   "source": [
    "<img src = \"https://cf-courses-data.s3.us.cloud-object-storage.appdomain.cloud/IBMDeveloperSkillsNetwork-PY0101EN-SkillsNetwork/labs/Module%205/images/pandas_api.png\" width = 800, align = \"center\" alt=\"logistic regression block diagram\" />\n"
   ]
  },
  {
   "cell_type": "markdown",
   "metadata": {},
   "source": [
    "When you call the method head the dataframe communicates with the API displaying the first few rows of the dataframe.\n"
   ]
  },
  {
   "cell_type": "code",
   "execution_count": 4,
   "metadata": {
    "jupyter": {
     "outputs_hidden": false
    }
   },
   "outputs": [
    {
     "data": {
      "text/html": [
       "<div>\n",
       "<style scoped>\n",
       "    .dataframe tbody tr th:only-of-type {\n",
       "        vertical-align: middle;\n",
       "    }\n",
       "\n",
       "    .dataframe tbody tr th {\n",
       "        vertical-align: top;\n",
       "    }\n",
       "\n",
       "    .dataframe thead th {\n",
       "        text-align: right;\n",
       "    }\n",
       "</style>\n",
       "<table border=\"1\" class=\"dataframe\">\n",
       "  <thead>\n",
       "    <tr style=\"text-align: right;\">\n",
       "      <th></th>\n",
       "      <th>a</th>\n",
       "      <th>b</th>\n",
       "    </tr>\n",
       "  </thead>\n",
       "  <tbody>\n",
       "    <tr>\n",
       "      <th>0</th>\n",
       "      <td>11</td>\n",
       "      <td>12</td>\n",
       "    </tr>\n",
       "    <tr>\n",
       "      <th>1</th>\n",
       "      <td>21</td>\n",
       "      <td>22</td>\n",
       "    </tr>\n",
       "    <tr>\n",
       "      <th>2</th>\n",
       "      <td>31</td>\n",
       "      <td>32</td>\n",
       "    </tr>\n",
       "  </tbody>\n",
       "</table>\n",
       "</div>"
      ],
      "text/plain": [
       "    a   b\n",
       "0  11  12\n",
       "1  21  22\n",
       "2  31  32"
      ]
     },
     "execution_count": 4,
     "metadata": {},
     "output_type": "execute_result"
    }
   ],
   "source": [
    "df.head()"
   ]
  },
  {
   "cell_type": "markdown",
   "metadata": {},
   "source": [
    "When you call the method mean,the API will calculate the mean and return the value.\n"
   ]
  },
  {
   "cell_type": "code",
   "execution_count": 5,
   "metadata": {
    "jupyter": {
     "outputs_hidden": false
    }
   },
   "outputs": [
    {
     "data": {
      "text/plain": [
       "a    21.0\n",
       "b    22.0\n",
       "dtype: float64"
      ]
     },
     "execution_count": 5,
     "metadata": {},
     "output_type": "execute_result"
    }
   ],
   "source": [
    "df.mean()"
   ]
  },
  {
   "cell_type": "markdown",
   "metadata": {},
   "source": [
    "<h2 id=\"ref1\">REST APIs</h2>"
   ]
  },
  {
   "cell_type": "markdown",
   "metadata": {},
   "source": [
    "Rest API’s function by sending a request,  the request is communicated via HTTP message. The HTTP message usually contains a JSON file. This contains instructions for what operation we would like the service or resource to perform. In a similar manner, API returns a response, via an HTTP message, this response is usually contained within a JSON.\n",
    "\n",
    "In cryptocurrency a popular method to display the movements of the price of a currency.\n",
    "\n",
    "![Example Candlestick Graph](https://cf-courses-data.s3.us.cloud-object-storage.appdomain.cloud/IBMDeveloperSkillsNetwork-PY0101EN-SkillsNetwork/labs/Module%205/candlestick.png)\n",
    "\n",
    "Here is a description of the candle sticks.\n",
    "\n",
    "<img src=\"https://cf-courses-data.s3.us.cloud-object-storage.appdomain.cloud/IBMDeveloperSkillsNetwork-PY0101EN-SkillsNetwork/labs/Module%205/explanation.png\" alt=\"Candle Stick Definition\" width=\"800\" height=\"600\">\n",
    "\n",
    "In this lab, we will be using the https://www.coingecko.com/en/api?utm_medium=Exinfluencer&utm_source=Exinfluencer&utm_content=000026UJ&utm_term=10006555&utm_id=NA-SkillsNetwork-Channel-SkillsNetworkCoursesIBMDeveloperSkillsNetworkPY0101ENSkillsNetwork19487395-2021-01-01>CoinGecko API</a> to create one of these candlestick graphs for Bitcoin. We will use the API to get the price data for 30 days with 24 observation per day, 1 per hour. We will find the max, min, open, and close price per day meaning we will have 30 candlesticks and use that to generate the candlestick graph. Although we are using the CoinGecko API we will use a Python client/wrapper for the API called https://github.com/man-c/pycoingecko?utm_medium=Exinfluencer&utm_source=Exinfluencer&utm_content=000026UJ&utm_term=10006555&utm_id=NA-SkillsNetwork-Channel-SkillsNetworkCoursesIBMDeveloperSkillsNetworkPY0101ENSkillsNetwork19487395-2021-01-01>PyCoinGecko</a>. PyCoinGecko will make performing the requests easy and it will deal with the enpoint targeting.\n"
   ]
  },
  {
   "cell_type": "markdown",
   "metadata": {},
   "source": [
    "Lets start off by getting the data we need. Using the <code>get_coin_market_chart_by_id(id, vs_currency, days)</code>. <code>id</code> is the name of the coin you want, <code>vs_currency</code> is the currency you want the price in, and <code>days</code> is how many days back from today you want.\n"
   ]
  },
  {
   "cell_type": "code",
   "execution_count": 6,
   "metadata": {},
   "outputs": [],
   "source": [
    "cg = CoinGeckoAPI()\n",
    "\n",
    "bitcoin_data = cg.get_coin_market_chart_by_id(id='bitcoin', vs_currency='usd', days=30)"
   ]
  },
  {
   "cell_type": "code",
   "execution_count": 7,
   "metadata": {},
   "outputs": [
    {
     "data": {
      "text/plain": [
       "dict"
      ]
     },
     "execution_count": 7,
     "metadata": {},
     "output_type": "execute_result"
    }
   ],
   "source": [
    "type(bitcoin_data)"
   ]
  },
  {
   "cell_type": "markdown",
   "metadata": {},
   "source": [
    "The response we get is in the form of a JSON which includes the price, market caps, and total volumes along with timestamps for each observation. We are focused on the prices so we will select that data.\n"
   ]
  },
  {
   "cell_type": "code",
   "execution_count": 8,
   "metadata": {},
   "outputs": [
    {
     "data": {
      "text/plain": [
       "[[1626728403391, 30888.54720517775],\n",
       " [1626732101930, 30831.4542812602],\n",
       " [1626735613229, 30965.831960798874],\n",
       " [1626739305224, 30928.211908849244],\n",
       " [1626742880326, 30974.89741294752]]"
      ]
     },
     "execution_count": 8,
     "metadata": {},
     "output_type": "execute_result"
    }
   ],
   "source": [
    "bitcoin_price_data = bitcoin_data['prices']\n",
    "\n",
    "bitcoin_price_data[0:5]"
   ]
  },
  {
   "cell_type": "markdown",
   "metadata": {},
   "source": [
    "Finally lets turn this data into a Pandas DataFrame.\n"
   ]
  },
  {
   "cell_type": "code",
   "execution_count": 9,
   "metadata": {},
   "outputs": [],
   "source": [
    "data = pd.DataFrame(bitcoin_price_data, columns=['TimeStamp', 'Price'])"
   ]
  },
  {
   "cell_type": "markdown",
   "metadata": {},
   "source": [
    "Now that we have the DataFrame we will convert the timestamp to datetime and save it as a column called <code>Date</code>. We will map our <code>unix_to_datetime</code> to each timestamp and convert it to a readable datetime.\n"
   ]
  },
  {
   "cell_type": "code",
   "execution_count": 10,
   "metadata": {},
   "outputs": [],
   "source": [
    "data['date'] = data['TimeStamp'].apply(lambda d: datetime.date.fromtimestamp(d/1000.0))"
   ]
  },
  {
   "cell_type": "markdown",
   "metadata": {},
   "source": [
    "Using this modified dataset we can now group by the <code>Date</code> and find the min, max, open, and close for the candlesticks.\n"
   ]
  },
  {
   "cell_type": "code",
   "execution_count": 11,
   "metadata": {},
   "outputs": [],
   "source": [
    "candlestick_data = data.groupby(data.date, as_index=False).agg({\"Price\": ['min', 'max', 'first', 'last']})"
   ]
  },
  {
   "cell_type": "markdown",
   "metadata": {},
   "source": [
    "Finally we are now ready to use plotly to create our Candlestick Chart.\n"
   ]
  },
  {
   "cell_type": "code",
   "execution_count": 12,
   "metadata": {},
   "outputs": [
    {
     "data": {
      "image/svg+xml": [
       "<svg class=\"main-svg\" xmlns=\"http://www.w3.org/2000/svg\" xmlns:xlink=\"http://www.w3.org/1999/xlink\" width=\"700\" height=\"500\" style=\"\" viewBox=\"0 0 700 500\"><rect x=\"0\" y=\"0\" width=\"700\" height=\"500\" style=\"fill: rgb(255, 255, 255); fill-opacity: 1;\"/><defs id=\"defs-c316ef\"><g class=\"clips\"><clipPath id=\"clipc316efxyplot\" class=\"plotclip\"><rect width=\"540\" height=\"320\"/></clipPath><clipPath class=\"axesclip\" id=\"clipc316efx\"><rect x=\"80\" y=\"0\" width=\"540\" height=\"500\"/></clipPath><clipPath class=\"axesclip\" id=\"clipc316efy\"><rect x=\"0\" y=\"100\" width=\"700\" height=\"320\"/></clipPath><clipPath class=\"axesclip\" id=\"clipc316efxy\"><rect x=\"80\" y=\"100\" width=\"540\" height=\"320\"/></clipPath></g><g class=\"gradients\"/><g class=\"patterns\"/></defs><g class=\"bglayer\"><rect class=\"bg\" x=\"80\" y=\"100\" width=\"540\" height=\"320\" style=\"fill: rgb(229, 236, 246); fill-opacity: 1; stroke-width: 0;\"/></g><g class=\"layer-below\"><g class=\"imagelayer\"/><g class=\"shapelayer\"/></g><g class=\"cartesianlayer\"><g class=\"subplot xy\"><g class=\"layer-subplot\"><g class=\"shapelayer\"/><g class=\"imagelayer\"/></g><g class=\"gridlayer\"><g class=\"x\"><path class=\"xgrid crisp\" transform=\"translate(193.23000000000002,0)\" d=\"M0,100v320\" style=\"stroke: rgb(255, 255, 255); stroke-opacity: 1; stroke-width: 1px;\"/><path class=\"xgrid crisp\" transform=\"translate(315.15999999999997,0)\" d=\"M0,100v320\" style=\"stroke: rgb(255, 255, 255); stroke-opacity: 1; stroke-width: 1px;\"/><path class=\"xgrid crisp\" transform=\"translate(437.1,0)\" d=\"M0,100v320\" style=\"stroke: rgb(255, 255, 255); stroke-opacity: 1; stroke-width: 1px;\"/><path class=\"xgrid crisp\" transform=\"translate(559.03,0)\" d=\"M0,100v320\" style=\"stroke: rgb(255, 255, 255); stroke-opacity: 1; stroke-width: 1px;\"/></g><g class=\"y\"><path class=\"ygrid crisp\" transform=\"translate(0,397.69)\" d=\"M80,0h540\" style=\"stroke: rgb(255, 255, 255); stroke-opacity: 1; stroke-width: 1px;\"/><path class=\"ygrid crisp\" transform=\"translate(0,318.84000000000003)\" d=\"M80,0h540\" style=\"stroke: rgb(255, 255, 255); stroke-opacity: 1; stroke-width: 1px;\"/><path class=\"ygrid crisp\" transform=\"translate(0,239.99)\" d=\"M80,0h540\" style=\"stroke: rgb(255, 255, 255); stroke-opacity: 1; stroke-width: 1px;\"/><path class=\"ygrid crisp\" transform=\"translate(0,161.14)\" d=\"M80,0h540\" style=\"stroke: rgb(255, 255, 255); stroke-opacity: 1; stroke-width: 1px;\"/></g></g><g class=\"zerolinelayer\"/><path class=\"xlines-below\"/><path class=\"ylines-below\"/><g class=\"overlines-below\"/><g class=\"xaxislayer-below\"/><g class=\"yaxislayer-below\"/><g class=\"overaxes-below\"/><g class=\"plot\" transform=\"translate(80,100)\" clip-path=\"url(#clipc316efxyplot)\"><g class=\"boxlayer mlayer\"><g class=\"trace boxes\" style=\"opacity: 1;\"><path class=\"box\" d=\"M4.44,301.59H12.98M4.44,302.59H12.98V283.68H4.44ZM8.71,302.59V302.59M8.71,283.68V282.32\" style=\"vector-effect: non-scaling-stroke; stroke-width: 2px; stroke: rgb(255, 65, 54); stroke-opacity: 1; fill: rgb(255, 65, 54); fill-opacity: 0.5; opacity: 1;\"/><path class=\"box\" d=\"M21.86,299.66H30.4M21.86,301.28H30.4V298.66H21.86ZM26.13,301.28V304M26.13,298.66V298.24\" style=\"vector-effect: non-scaling-stroke; stroke-width: 2px; stroke: rgb(61, 153, 112); stroke-opacity: 1; fill: rgb(61, 153, 112); fill-opacity: 0.5; opacity: 1;\"/><path class=\"box\" d=\"M39.28,266.97H47.82M39.28,284.91H47.82V265.97H39.28ZM43.55,284.91V285.11M43.55,265.97V261.2\" style=\"vector-effect: non-scaling-stroke; stroke-width: 2px; stroke: rgb(61, 153, 112); stroke-opacity: 1; fill: rgb(61, 153, 112); fill-opacity: 0.5; opacity: 1;\"/><path class=\"box\" d=\"M56.7,257.49H65.24M56.7,264.33H65.24V256.49H56.7ZM60.97,264.33V267.31M60.97,256.49V252.61\" style=\"vector-effect: non-scaling-stroke; stroke-width: 2px; stroke: rgb(61, 153, 112); stroke-opacity: 1; fill: rgb(61, 153, 112); fill-opacity: 0.5; opacity: 1;\"/><path class=\"box\" d=\"M74.12,240.78H82.65M74.12,255.09H82.65V239.78H74.12ZM78.39,255.09V263.3M78.39,239.78V239.3\" style=\"vector-effect: non-scaling-stroke; stroke-width: 2px; stroke: rgb(61, 153, 112); stroke-opacity: 1; fill: rgb(61, 153, 112); fill-opacity: 0.5; opacity: 1;\"/><path class=\"box\" d=\"M91.54,232.05H100.07M91.54,238.51H100.07V231.05H91.54ZM95.81,238.51V240.04M95.81,231.05V227.37\" style=\"vector-effect: non-scaling-stroke; stroke-width: 2px; stroke: rgb(61, 153, 112); stroke-opacity: 1; fill: rgb(61, 153, 112); fill-opacity: 0.5; opacity: 1;\"/><path class=\"box\" d=\"M108.96,169.81H117.49M108.96,227.26H117.49V168.81H108.96ZM113.23,227.26V233.13M113.23,168.81V166.87\" style=\"vector-effect: non-scaling-stroke; stroke-width: 2px; stroke: rgb(61, 153, 112); stroke-opacity: 1; fill: rgb(61, 153, 112); fill-opacity: 0.5; opacity: 1;\"/><path class=\"box\" d=\"M126.38,188.03H134.91M126.38,189.03H134.91V164.06H126.38ZM130.65,189.03V194.43M130.65,164.06V142.49\" style=\"vector-effect: non-scaling-stroke; stroke-width: 2px; stroke: rgb(255, 65, 54); stroke-opacity: 1; fill: rgb(255, 65, 54); fill-opacity: 0.5; opacity: 1;\"/><path class=\"box\" d=\"M143.8,145.22H152.33M143.8,184.46H152.33V144.22H143.8ZM148.06,184.46V187.72M148.06,144.22V141.7\" style=\"vector-effect: non-scaling-stroke; stroke-width: 2px; stroke: rgb(61, 153, 112); stroke-opacity: 1; fill: rgb(61, 153, 112); fill-opacity: 0.5; opacity: 1;\"/><path class=\"box\" d=\"M161.22,144.56H169.75M161.22,145.03H169.75V143.56H161.22ZM165.48,145.03V164.31M165.48,143.56V126.74\" style=\"vector-effect: non-scaling-stroke; stroke-width: 2px; stroke: rgb(255, 65, 54); stroke-opacity: 1; fill: rgb(255, 65, 54); fill-opacity: 0.5; opacity: 1;\"/><path class=\"box\" d=\"M178.64,139.5H187.17M178.64,140.5H187.17V137.45H178.64ZM182.9,140.5V148.24M182.9,137.45V130.26\" style=\"vector-effect: non-scaling-stroke; stroke-width: 2px; stroke: rgb(255, 65, 54); stroke-opacity: 1; fill: rgb(255, 65, 54); fill-opacity: 0.5; opacity: 1;\"/><path class=\"box\" d=\"M196.05,111.59H204.59M196.05,144.65H204.59V110.59H196.05ZM200.32,144.65V160.78M200.32,110.59V109\" style=\"vector-effect: non-scaling-stroke; stroke-width: 2px; stroke: rgb(61, 153, 112); stroke-opacity: 1; fill: rgb(61, 153, 112); fill-opacity: 0.5; opacity: 1;\"/><path class=\"box\" d=\"M213.47,99.54H222.01M213.47,112.58H222.01V98.54H213.47ZM217.74,112.58V121.18M217.74,98.54V98.54\" style=\"vector-effect: non-scaling-stroke; stroke-width: 2px; stroke: rgb(61, 153, 112); stroke-opacity: 1; fill: rgb(61, 153, 112); fill-opacity: 0.5; opacity: 1;\"/><path class=\"box\" d=\"M230.89,141.7H239.43M230.89,142.7H239.43V106.98H230.89ZM235.16,142.7V146.73M235.16,106.98V106.98\" style=\"vector-effect: non-scaling-stroke; stroke-width: 2px; stroke: rgb(255, 65, 54); stroke-opacity: 1; fill: rgb(255, 65, 54); fill-opacity: 0.5; opacity: 1;\"/><path class=\"box\" d=\"M248.31,161.83H256.85M248.31,162.83H256.85V144.02H248.31ZM252.58,162.83V162.83M252.58,144.02V130.99\" style=\"vector-effect: non-scaling-stroke; stroke-width: 2px; stroke: rgb(255, 65, 54); stroke-opacity: 1; fill: rgb(255, 65, 54); fill-opacity: 0.5; opacity: 1;\"/><path class=\"box\" d=\"M265.73,170.19H274.27M265.73,171.19H274.27V163.02H265.73ZM270,171.19V171.19M270,163.02V158.38\" style=\"vector-effect: non-scaling-stroke; stroke-width: 2px; stroke: rgb(255, 65, 54); stroke-opacity: 1; fill: rgb(255, 65, 54); fill-opacity: 0.5; opacity: 1;\"/><path class=\"box\" d=\"M283.15,149.17H291.69M283.15,168.76H291.69V148.17H283.15ZM287.42,168.76V175.8M287.42,148.17V141.92\" style=\"vector-effect: non-scaling-stroke; stroke-width: 2px; stroke: rgb(61, 153, 112); stroke-opacity: 1; fill: rgb(61, 153, 112); fill-opacity: 0.5; opacity: 1;\"/><path class=\"box\" d=\"M300.57,139H309.11M300.57,149.93H309.11V138H300.57ZM304.84,149.93V177.9M304.84,138V124.97\" style=\"vector-effect: non-scaling-stroke; stroke-width: 2px; stroke: rgb(61, 153, 112); stroke-opacity: 1; fill: rgb(61, 153, 112); fill-opacity: 0.5; opacity: 1;\"/><path class=\"box\" d=\"M317.99,82.01H326.53M317.99,138.55H326.53V81.01H317.99ZM322.26,138.55V138.55M322.26,81.01V81.01\" style=\"vector-effect: non-scaling-stroke; stroke-width: 2px; stroke: rgb(61, 153, 112); stroke-opacity: 1; fill: rgb(61, 153, 112); fill-opacity: 0.5; opacity: 1;\"/><path class=\"box\" d=\"M335.41,72.95H343.95M335.41,87.84H343.95V71.95H335.41ZM339.68,87.84V88.97M339.68,71.95V68.79\" style=\"vector-effect: non-scaling-stroke; stroke-width: 2px; stroke: rgb(61, 153, 112); stroke-opacity: 1; fill: rgb(61, 153, 112); fill-opacity: 0.5; opacity: 1;\"/><path class=\"box\" d=\"M352.83,82.73H361.36M352.83,83.73H361.36V73.18H352.83ZM357.1,83.73V91.81M357.1,73.18V58.65\" style=\"vector-effect: non-scaling-stroke; stroke-width: 2px; stroke: rgb(255, 65, 54); stroke-opacity: 1; fill: rgb(255, 65, 54); fill-opacity: 0.5; opacity: 1;\"/><path class=\"box\" d=\"M370.25,50.26H378.78M370.25,83.3H378.78V49.26H370.25ZM374.52,83.3V84.46M374.52,49.26V38.53\" style=\"vector-effect: non-scaling-stroke; stroke-width: 2px; stroke: rgb(61, 153, 112); stroke-opacity: 1; fill: rgb(61, 153, 112); fill-opacity: 0.5; opacity: 1;\"/><path class=\"box\" d=\"M387.67,51.49H396.2M387.67,52.25H396.2V51.49H387.67ZM391.94,52.25V64.05M391.94,51.49V43.94\" style=\"vector-effect: non-scaling-stroke; stroke-width: 2px; stroke: rgb(61, 153, 112); stroke-opacity: 1; fill: rgb(61, 153, 112); fill-opacity: 0.5; opacity: 1;\"/><path class=\"box\" d=\"M405.09,46.03H413.62M405.09,50.69H413.62V45.03H405.09ZM409.35,50.69V50.79M409.35,45.03V36.13\" style=\"vector-effect: non-scaling-stroke; stroke-width: 2px; stroke: rgb(61, 153, 112); stroke-opacity: 1; fill: rgb(61, 153, 112); fill-opacity: 0.5; opacity: 1;\"/><path class=\"box\" d=\"M422.51,55.16H431.04M422.51,56.16H431.04V50.63H422.51ZM426.77,56.16V77.45M426.77,50.63V50.63\" style=\"vector-effect: non-scaling-stroke; stroke-width: 2px; stroke: rgb(255, 65, 54); stroke-opacity: 1; fill: rgb(255, 65, 54); fill-opacity: 0.5; opacity: 1;\"/><path class=\"box\" d=\"M439.93,22.2H448.46M439.93,55.83H448.46V21.2H439.93ZM444.19,55.83V55.83M444.19,21.2V17.61\" style=\"vector-effect: non-scaling-stroke; stroke-width: 2px; stroke: rgb(61, 153, 112); stroke-opacity: 1; fill: rgb(61, 153, 112); fill-opacity: 0.5; opacity: 1;\"/><path class=\"box\" d=\"M457.35,29.8H465.88M457.35,30.8H465.88V21.39H457.35ZM461.61,30.8V41.95M461.61,21.39V19.77\" style=\"vector-effect: non-scaling-stroke; stroke-width: 2px; stroke: rgb(255, 65, 54); stroke-opacity: 1; fill: rgb(255, 65, 54); fill-opacity: 0.5; opacity: 1;\"/><path class=\"box\" d=\"M474.76,24.52H483.3M474.76,33.96H483.3V23.52H474.76ZM479.03,33.96V49.2M479.03,23.52V16\" style=\"vector-effect: non-scaling-stroke; stroke-width: 2px; stroke: rgb(61, 153, 112); stroke-opacity: 1; fill: rgb(61, 153, 112); fill-opacity: 0.5; opacity: 1;\"/><path class=\"box\" d=\"M492.18,38.25H500.72M492.18,39.25H500.72V22.63H492.18ZM496.45,39.25V48.42M496.45,22.63V21.57\" style=\"vector-effect: non-scaling-stroke; stroke-width: 2px; stroke: rgb(255, 65, 54); stroke-opacity: 1; fill: rgb(255, 65, 54); fill-opacity: 0.5; opacity: 1;\"/><path class=\"box\" d=\"M509.6,59.66H518.14M509.6,60.66H518.14V38.93H509.6ZM513.87,60.66V68.48M513.87,38.93V30.06\" style=\"vector-effect: non-scaling-stroke; stroke-width: 2px; stroke: rgb(255, 65, 54); stroke-opacity: 1; fill: rgb(255, 65, 54); fill-opacity: 0.5; opacity: 1;\"/><path class=\"box\" d=\"M527.02,61.95H535.56M527.02,62.39H535.56V60.95H527.02ZM531.29,62.39V64.15M531.29,60.95V47.02\" style=\"vector-effect: non-scaling-stroke; stroke-width: 2px; stroke: rgb(255, 65, 54); stroke-opacity: 1; fill: rgb(255, 65, 54); fill-opacity: 0.5; opacity: 1;\"/></g></g></g><g class=\"overplot\"/><path class=\"xlines-above crisp\" d=\"M0,0\" style=\"fill: none;\"/><path class=\"ylines-above crisp\" d=\"M0,0\" style=\"fill: none;\"/><g class=\"overlines-above\"/><g class=\"xaxislayer-above\"><g class=\"xtick\"><text text-anchor=\"middle\" x=\"0\" y=\"433\" transform=\"translate(193.23000000000002,0)\" style=\"font-family: 'Open Sans', verdana, arial, sans-serif; font-size: 12px; fill: rgb(42, 63, 95); fill-opacity: 1; white-space: pre; opacity: 1;\"><tspan class=\"line\" dy=\"0em\" x=\"0\" y=\"433\">Jul 25</tspan><tspan class=\"line\" dy=\"1.3em\" x=\"0\" y=\"433\">2021</tspan></text></g><g class=\"xtick\"><text text-anchor=\"middle\" x=\"0\" y=\"433\" style=\"font-family: 'Open Sans', verdana, arial, sans-serif; font-size: 12px; fill: rgb(42, 63, 95); fill-opacity: 1; white-space: pre; opacity: 1;\" transform=\"translate(315.15999999999997,0)\">Aug 1</text></g><g class=\"xtick\"><text text-anchor=\"middle\" x=\"0\" y=\"433\" style=\"font-family: 'Open Sans', verdana, arial, sans-serif; font-size: 12px; fill: rgb(42, 63, 95); fill-opacity: 1; white-space: pre; opacity: 1;\" transform=\"translate(437.1,0)\">Aug 8</text></g><g class=\"xtick\"><text text-anchor=\"middle\" x=\"0\" y=\"433\" style=\"font-family: 'Open Sans', verdana, arial, sans-serif; font-size: 12px; fill: rgb(42, 63, 95); fill-opacity: 1; white-space: pre; opacity: 1;\" transform=\"translate(559.03,0)\">Aug 15</text></g></g><g class=\"yaxislayer-above\"><g class=\"ytick\"><text text-anchor=\"end\" x=\"79\" y=\"4.199999999999999\" transform=\"translate(0,397.69)\" style=\"font-family: 'Open Sans', verdana, arial, sans-serif; font-size: 12px; fill: rgb(42, 63, 95); fill-opacity: 1; white-space: pre; opacity: 1;\">30k</text></g><g class=\"ytick\"><text text-anchor=\"end\" x=\"79\" y=\"4.199999999999999\" style=\"font-family: 'Open Sans', verdana, arial, sans-serif; font-size: 12px; fill: rgb(42, 63, 95); fill-opacity: 1; white-space: pre; opacity: 1;\" transform=\"translate(0,318.84000000000003)\">35k</text></g><g class=\"ytick\"><text text-anchor=\"end\" x=\"79\" y=\"4.199999999999999\" style=\"font-family: 'Open Sans', verdana, arial, sans-serif; font-size: 12px; fill: rgb(42, 63, 95); fill-opacity: 1; white-space: pre; opacity: 1;\" transform=\"translate(0,239.99)\">40k</text></g><g class=\"ytick\"><text text-anchor=\"end\" x=\"79\" y=\"4.199999999999999\" style=\"font-family: 'Open Sans', verdana, arial, sans-serif; font-size: 12px; fill: rgb(42, 63, 95); fill-opacity: 1; white-space: pre; opacity: 1;\" transform=\"translate(0,161.14)\">45k</text></g></g><g class=\"overaxes-above\"/></g></g><g class=\"polarlayer\"/><g class=\"ternarylayer\"/><g class=\"geolayer\"/><g class=\"funnelarealayer\"/><g class=\"pielayer\"/><g class=\"iciclelayer\"/><g class=\"treemaplayer\"/><g class=\"sunburstlayer\"/><g class=\"glimages\"/><defs id=\"topdefs-c316ef\"><g class=\"clips\"/></defs><g class=\"layer-above\"><g class=\"imagelayer\"/><g class=\"shapelayer\"/></g><g class=\"infolayer\"><g class=\"g-gtitle\"/><g class=\"g-xtitle\"/><g class=\"g-ytitle\"/></g></svg>"
      ]
     },
     "metadata": {},
     "output_type": "display_data"
    }
   ],
   "source": [
    "fig = go.Figure(data=[go.Candlestick(x=candlestick_data['date'],\n",
    "                open=candlestick_data['Price']['first'], \n",
    "                high=candlestick_data['Price']['max'],\n",
    "                low=candlestick_data['Price']['min'], \n",
    "                close=candlestick_data['Price']['last'])\n",
    "                ])\n",
    "\n",
    "fig.update_layout(xaxis_rangeslider_visible=False)\n",
    "\n",
    "fig.show(\"svg\")"
   ]
  },
  {
   "cell_type": "markdown",
   "metadata": {},
   "source": [
    "__Great!__ This is the end of the notebook. In this code notebook some of knowledge required for a data scientist and some of the skills used by data scientists on a daily basis were shown and applied. The code and images were provided by IBM, and the development of the code and notebook, as well as some notes and editions, were carried out by me, [Saulo Villaseñor](https://www.linkedin.com/in/saulo-villase%C3%B1or-60669610a), so that this notebook is available to everybody and work as a reference for anyone who wishes to learn new skills."
   ]
  }
 ],
 "metadata": {
  "kernelspec": {
   "display_name": "Python 3",
   "language": "python",
   "name": "python3"
  },
  "language_info": {
   "codemirror_mode": {
    "name": "ipython",
    "version": 3
   },
   "file_extension": ".py",
   "mimetype": "text/x-python",
   "name": "python",
   "nbconvert_exporter": "python",
   "pygments_lexer": "ipython3",
   "version": "3.7.6"
  }
 },
 "nbformat": 4,
 "nbformat_minor": 4
}
